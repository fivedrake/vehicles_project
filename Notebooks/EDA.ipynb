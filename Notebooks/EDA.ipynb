import pandas as pd
import plotly.express as px

car_data = pd.read_csv('/vehicles_us.csv') 
fig = px.histogram(car_data, x="odometer") 
fig.show() 

fig = px.scatter(car_data, x="odometer", y="price") 
fig.show() 
